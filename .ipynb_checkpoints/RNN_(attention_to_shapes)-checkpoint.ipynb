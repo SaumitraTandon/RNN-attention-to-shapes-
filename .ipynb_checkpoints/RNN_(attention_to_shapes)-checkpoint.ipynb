{
 "cells": [
  {
   "cell_type": "code",
   "execution_count": 2,
   "id": "ae2c4afb-d3ce-445f-8309-e47b886b157a",
   "metadata": {},
   "outputs": [],
   "source": [
    "import tensorflow as tf"
   ]
  },
  {
   "cell_type": "code",
   "execution_count": 8,
   "id": "f28f958d-5a90-4d4a-ab90-fe3b1f0257e8",
   "metadata": {},
   "outputs": [],
   "source": [
    "from tensorflow.keras.layers import Input, SimpleRNN, Dense, Flatten\n",
    "from tensorflow.keras.models import Model\n",
    "from tensorflow.keras.optimizers import SGD, Adam\n",
    "\n",
    "import numpy as np\n",
    "import pandas as pd\n",
    "import matplotlib.pyplot as plt"
   ]
  },
  {
   "cell_type": "code",
   "execution_count": 10,
   "id": "732d2d39-b1af-400e-924f-4acf5b10fcda",
   "metadata": {},
   "outputs": [
    {
     "name": "stdout",
     "output_type": "stream",
     "text": [
      "2.16.2\n"
     ]
    }
   ],
   "source": [
    "print(tf.__version__)"
   ]
  },
  {
   "cell_type": "code",
   "execution_count": 53,
   "id": "de1418a1-1025-47cc-8acb-0729343ee3c6",
   "metadata": {},
   "outputs": [
    {
     "data": {
      "text/plain": [
       "'\\nN = Number of samples\\nT = Sequence Length\\nD = Number of input Features \\nM = Number of hidden units \\nK = Number of output units\\n'"
      ]
     },
     "execution_count": 53,
     "metadata": {},
     "output_type": "execute_result"
    }
   ],
   "source": [
    "\"\"\" THINGS TO KNOW \"\"\"\n",
    "\"\"\"\n",
    "N = Number of samples\n",
    "T = Sequence Length\n",
    "D = Number of input Features \n",
    "M = Number of hidden units \n",
    "K = Number of output units\n",
    "\"\"\""
   ]
  },
  {
   "cell_type": "code",
   "execution_count": 18,
   "id": "76334aac-79b3-48c6-8c17-7d79ec1e9458",
   "metadata": {},
   "outputs": [],
   "source": [
    "N = 1\n",
    "T = 10\n",
    "D = 3 \n",
    "K = 2\n",
    "X = np.random.randn(N, T, D)"
   ]
  },
  {
   "cell_type": "code",
   "execution_count": 20,
   "id": "3e0a4619-b1a0-4c8e-bd73-a9e85c84efb3",
   "metadata": {},
   "outputs": [],
   "source": [
    "# Make an RNN\n",
    "M = 5 # number of hidden units\n",
    "i = Input(shape =(T, D))\n",
    "x = SimpleRNN(M)(i)\n",
    "x = Dense(K)(x)\n",
    "\n",
    "model = Model(i,x)"
   ]
  },
  {
   "cell_type": "code",
   "execution_count": 22,
   "id": "971ba238-0c53-482c-b614-8a303becf0ef",
   "metadata": {},
   "outputs": [
    {
     "name": "stdout",
     "output_type": "stream",
     "text": [
      "\u001b[1m1/1\u001b[0m \u001b[32m━━━━━━━━━━━━━━━━━━━━\u001b[0m\u001b[37m\u001b[0m \u001b[1m0s\u001b[0m 390ms/step\n",
      "[[ 0.2901564  -0.27581182]]\n"
     ]
    }
   ],
   "source": [
    "#Get Output\n",
    "Yhat = model.predict(X)\n",
    "print(Yhat)"
   ]
  },
  {
   "cell_type": "code",
   "execution_count": 28,
   "id": "9f8ad090-919a-457c-8565-1630049454e4",
   "metadata": {},
   "outputs": [
    {
     "data": {
      "text/html": [
       "<pre style=\"white-space:pre;overflow-x:auto;line-height:normal;font-family:Menlo,'DejaVu Sans Mono',consolas,'Courier New',monospace\"><span style=\"font-weight: bold\">Model: \"functional\"</span>\n",
       "</pre>\n"
      ],
      "text/plain": [
       "\u001b[1mModel: \"functional\"\u001b[0m\n"
      ]
     },
     "metadata": {},
     "output_type": "display_data"
    },
    {
     "data": {
      "text/html": [
       "<pre style=\"white-space:pre;overflow-x:auto;line-height:normal;font-family:Menlo,'DejaVu Sans Mono',consolas,'Courier New',monospace\">┏━━━━━━━━━━━━━━━━━━━━━━━━━━━━━━━━━┳━━━━━━━━━━━━━━━━━━━━━━━━┳━━━━━━━━━━━━━━━┓\n",
       "┃<span style=\"font-weight: bold\"> Layer (type)                    </span>┃<span style=\"font-weight: bold\"> Output Shape           </span>┃<span style=\"font-weight: bold\">       Param # </span>┃\n",
       "┡━━━━━━━━━━━━━━━━━━━━━━━━━━━━━━━━━╇━━━━━━━━━━━━━━━━━━━━━━━━╇━━━━━━━━━━━━━━━┩\n",
       "│ input_layer (<span style=\"color: #0087ff; text-decoration-color: #0087ff\">InputLayer</span>)        │ (<span style=\"color: #00d7ff; text-decoration-color: #00d7ff\">None</span>, <span style=\"color: #00af00; text-decoration-color: #00af00\">10</span>, <span style=\"color: #00af00; text-decoration-color: #00af00\">3</span>)          │             <span style=\"color: #00af00; text-decoration-color: #00af00\">0</span> │\n",
       "├─────────────────────────────────┼────────────────────────┼───────────────┤\n",
       "│ simple_rnn (<span style=\"color: #0087ff; text-decoration-color: #0087ff\">SimpleRNN</span>)          │ (<span style=\"color: #00d7ff; text-decoration-color: #00d7ff\">None</span>, <span style=\"color: #00af00; text-decoration-color: #00af00\">5</span>)              │            <span style=\"color: #00af00; text-decoration-color: #00af00\">45</span> │\n",
       "├─────────────────────────────────┼────────────────────────┼───────────────┤\n",
       "│ dense (<span style=\"color: #0087ff; text-decoration-color: #0087ff\">Dense</span>)                   │ (<span style=\"color: #00d7ff; text-decoration-color: #00d7ff\">None</span>, <span style=\"color: #00af00; text-decoration-color: #00af00\">2</span>)              │            <span style=\"color: #00af00; text-decoration-color: #00af00\">12</span> │\n",
       "└─────────────────────────────────┴────────────────────────┴───────────────┘\n",
       "</pre>\n"
      ],
      "text/plain": [
       "┏━━━━━━━━━━━━━━━━━━━━━━━━━━━━━━━━━┳━━━━━━━━━━━━━━━━━━━━━━━━┳━━━━━━━━━━━━━━━┓\n",
       "┃\u001b[1m \u001b[0m\u001b[1mLayer (type)                   \u001b[0m\u001b[1m \u001b[0m┃\u001b[1m \u001b[0m\u001b[1mOutput Shape          \u001b[0m\u001b[1m \u001b[0m┃\u001b[1m \u001b[0m\u001b[1m      Param #\u001b[0m\u001b[1m \u001b[0m┃\n",
       "┡━━━━━━━━━━━━━━━━━━━━━━━━━━━━━━━━━╇━━━━━━━━━━━━━━━━━━━━━━━━╇━━━━━━━━━━━━━━━┩\n",
       "│ input_layer (\u001b[38;5;33mInputLayer\u001b[0m)        │ (\u001b[38;5;45mNone\u001b[0m, \u001b[38;5;34m10\u001b[0m, \u001b[38;5;34m3\u001b[0m)          │             \u001b[38;5;34m0\u001b[0m │\n",
       "├─────────────────────────────────┼────────────────────────┼───────────────┤\n",
       "│ simple_rnn (\u001b[38;5;33mSimpleRNN\u001b[0m)          │ (\u001b[38;5;45mNone\u001b[0m, \u001b[38;5;34m5\u001b[0m)              │            \u001b[38;5;34m45\u001b[0m │\n",
       "├─────────────────────────────────┼────────────────────────┼───────────────┤\n",
       "│ dense (\u001b[38;5;33mDense\u001b[0m)                   │ (\u001b[38;5;45mNone\u001b[0m, \u001b[38;5;34m2\u001b[0m)              │            \u001b[38;5;34m12\u001b[0m │\n",
       "└─────────────────────────────────┴────────────────────────┴───────────────┘\n"
      ]
     },
     "metadata": {},
     "output_type": "display_data"
    },
    {
     "data": {
      "text/html": [
       "<pre style=\"white-space:pre;overflow-x:auto;line-height:normal;font-family:Menlo,'DejaVu Sans Mono',consolas,'Courier New',monospace\"><span style=\"font-weight: bold\"> Total params: </span><span style=\"color: #00af00; text-decoration-color: #00af00\">57</span> (228.00 B)\n",
       "</pre>\n"
      ],
      "text/plain": [
       "\u001b[1m Total params: \u001b[0m\u001b[38;5;34m57\u001b[0m (228.00 B)\n"
      ]
     },
     "metadata": {},
     "output_type": "display_data"
    },
    {
     "data": {
      "text/html": [
       "<pre style=\"white-space:pre;overflow-x:auto;line-height:normal;font-family:Menlo,'DejaVu Sans Mono',consolas,'Courier New',monospace\"><span style=\"font-weight: bold\"> Trainable params: </span><span style=\"color: #00af00; text-decoration-color: #00af00\">57</span> (228.00 B)\n",
       "</pre>\n"
      ],
      "text/plain": [
       "\u001b[1m Trainable params: \u001b[0m\u001b[38;5;34m57\u001b[0m (228.00 B)\n"
      ]
     },
     "metadata": {},
     "output_type": "display_data"
    },
    {
     "data": {
      "text/html": [
       "<pre style=\"white-space:pre;overflow-x:auto;line-height:normal;font-family:Menlo,'DejaVu Sans Mono',consolas,'Courier New',monospace\"><span style=\"font-weight: bold\"> Non-trainable params: </span><span style=\"color: #00af00; text-decoration-color: #00af00\">0</span> (0.00 B)\n",
       "</pre>\n"
      ],
      "text/plain": [
       "\u001b[1m Non-trainable params: \u001b[0m\u001b[38;5;34m0\u001b[0m (0.00 B)\n"
      ]
     },
     "metadata": {},
     "output_type": "display_data"
    }
   ],
   "source": [
    "#Let's see if we can replace this output\n",
    "model.summary()"
   ]
  },
  {
   "cell_type": "code",
   "execution_count": 30,
   "id": "874c28a4-74d0-4a48-89f0-acb4846cd6d8",
   "metadata": {},
   "outputs": [
    {
     "data": {
      "text/plain": [
       "[array([[ 0.6395146 , -0.8331942 ,  0.12492967, -0.829108  , -0.11625618],\n",
       "        [ 0.06386876, -0.6320732 ,  0.6650149 , -0.4608635 , -0.7752153 ],\n",
       "        [-0.7695693 ,  0.24228555,  0.65748507,  0.08287948, -0.52109003]],\n",
       "       dtype=float32),\n",
       " array([[ 0.390437  , -0.21179058, -0.36242747,  0.75511587,  0.3180414 ],\n",
       "        [ 0.5925462 , -0.15049526, -0.5256533 , -0.59109056, -0.0232511 ],\n",
       "        [-0.336844  ,  0.45865327, -0.67556226,  0.16360608, -0.4393426 ],\n",
       "        [-0.6106127 , -0.41192907, -0.36870366, -0.20021865,  0.5305061 ],\n",
       "        [ 0.10067934,  0.7432682 ,  0.00282813, -0.11643746,  0.65103793]],\n",
       "       dtype=float32),\n",
       " array([0., 0., 0., 0., 0.], dtype=float32)]"
      ]
     },
     "execution_count": 30,
     "metadata": {},
     "output_type": "execute_result"
    }
   ],
   "source": [
    "model.layers[1].get_weights()"
   ]
  },
  {
   "cell_type": "code",
   "execution_count": 35,
   "id": "95bebd7e-722d-4eef-818b-eb7a4ac4b37c",
   "metadata": {},
   "outputs": [
    {
     "data": {
      "text/plain": [
       "' First output is input > hidden '"
      ]
     },
     "execution_count": 35,
     "metadata": {},
     "output_type": "execute_result"
    }
   ],
   "source": [
    "' First output is input > hidden '"
   ]
  },
  {
   "cell_type": "code",
   "execution_count": 37,
   "id": "86006f79-3656-4a85-a75e-005a8a6dc064",
   "metadata": {},
   "outputs": [
    {
     "data": {
      "text/plain": [
       "' Second output is hidden > hiddden'"
      ]
     },
     "execution_count": 37,
     "metadata": {},
     "output_type": "execute_result"
    }
   ],
   "source": [
    "' Second output is hidden > hiddden'"
   ]
  },
  {
   "cell_type": "code",
   "execution_count": 39,
   "id": "5386d663-618e-40b1-b45b-6c58b78e2c87",
   "metadata": {},
   "outputs": [
    {
     "data": {
      "text/plain": [
       "' Third output is bias term (Vector of length M) '"
      ]
     },
     "execution_count": 39,
     "metadata": {},
     "output_type": "execute_result"
    }
   ],
   "source": [
    "' Third output is bias term (Vector of length M) '"
   ]
  },
  {
   "cell_type": "code",
   "execution_count": 41,
   "id": "da0a83dc-4f29-46b1-b5f8-8a79e5a23a03",
   "metadata": {},
   "outputs": [
    {
     "name": "stdout",
     "output_type": "stream",
     "text": [
      "(3, 5) (5, 5) (5,)\n"
     ]
    }
   ],
   "source": [
    "a, b, c = model.layers[1].get_weights()\n",
    "print(a.shape, b.shape, c.shape)"
   ]
  },
  {
   "cell_type": "code",
   "execution_count": 43,
   "id": "e5575bd0-ebed-47b2-b9fe-f14237b1bc0f",
   "metadata": {},
   "outputs": [],
   "source": [
    "Wx, Wh, bh = model.layers[1].get_weights()\n",
    "Wo,bo = model.layers[2].get_weights()"
   ]
  },
  {
   "cell_type": "code",
   "execution_count": 51,
   "id": "af0eacb7-9000-4b5f-96a3-7ba4fc74f668",
   "metadata": {},
   "outputs": [
    {
     "name": "stdout",
     "output_type": "stream",
     "text": [
      "[0.10603767 0.1067179 ]\n"
     ]
    }
   ],
   "source": [
    "h_last = np.zeros(M) # Initial hidden state\n",
    "x = X[0]\n",
    "Yhats = []\n",
    "\n",
    "for t in range(T):\n",
    "    h = np.tanh(x[t].dot(Wx) + h_last.dot(Wh) + bh)\n",
    "    y = h.dot(Wo) + bo\n",
    "    Yhats.append(y)\n",
    "\n",
    "    # assign h to h_last\n",
    "\n",
    "#print the final output \n",
    "print(Yhats[-1])"
   ]
  },
  {
   "cell_type": "code",
   "execution_count": null,
   "id": "21b179e7-5f36-4272-8cc9-163e9e7c95cd",
   "metadata": {},
   "outputs": [],
   "source": []
  }
 ],
 "metadata": {
  "kernelspec": {
   "display_name": "Python 3 (ipykernel)",
   "language": "python",
   "name": "python3"
  },
  "language_info": {
   "codemirror_mode": {
    "name": "ipython",
    "version": 3
   },
   "file_extension": ".py",
   "mimetype": "text/x-python",
   "name": "python",
   "nbconvert_exporter": "python",
   "pygments_lexer": "ipython3",
   "version": "3.11.7"
  }
 },
 "nbformat": 4,
 "nbformat_minor": 5
}
